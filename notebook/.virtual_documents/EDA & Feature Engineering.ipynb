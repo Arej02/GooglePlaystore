import numpy as np
import pandas as pd
import matplotlib.pylab as plt
import seaborn as sns
import warnings
warnings.filterwarnings('ignore', category=UserWarning)


df=pd.read_csv('data/googleplaystore.csv')


df_copy=df.copy()


df_copy.head()


df_copy.shape


df_copy.columns=df_copy.columns.str.replace(" ","_")


df_copy.info()





def findduplicate(dataframe):
    print("Checking Duplicates:")
    num_duplicates=df_copy.duplicated(subset=None,keep='first').sum()
    if num_duplicates>0:
        print(f"There are {num_duplicates} in the dataset")
        df_copy.drop_duplicates(keep="first",inplace=True)
        print(f"{num_duplicates} of duplicates are deleted!")
    else:
        print("There are no duplicates!")


findduplicate(df_copy)





df_copy=df_copy.replace('?',np.nan)


df_copy.isnull().sum()


plt.figure(figure=(15,6))
sns.heatmap(df_copy.isnull(), yticklabels=False,cbar=False)
plt.show()


df_copy.Android_Ver.unique()


df_copy.dropna(subset=['Android_Ver','Current_Ver','Content_Rating','Type'],inplace=True,axis=0)


df_copy.Rating.unique()


df_copy.Rating=df_copy.Rating.fillna(df.Rating.mode()[0])


df_copy.isnull().sum()


df_copy.Reviews=df_copy.Reviews.astype(int)


df_copy.Size.unique()


df_copy.Size=df_copy.Size.str.replace('M','000')
df_copy.Size=df_copy.Size.str.replace('k','')
df_copy.Size=df_copy.Size.str.replace('1000+','1000')
df_copy.Size=df_copy.Size.replace('Varies with device',np.nan)


df_copy.Size=df_copy.Size.astype(float)


df_copy.Installs.unique()


df_copy.Price.unique()


unrequired_items=['$',',','+']
cols=['Price','Installs']
for items in unrequired_items:
    for category in cols:
        df_copy[category]=df_copy[category].str.replace(items,'')


df_copy.Installs=df_copy.Installs.astype(int)
df_copy.Price=df_copy.Price.astype(float)


df_copy['Last_Updated']=pd.to_datetime(df_copy['Last_Updated'])
df_copy['Date']=df_copy['Last_Updated'].dt.day
df_copy['Month']=df_copy['Last_Updated'].dt.month
df_copy['Year']=df_copy['Last_Updated'].dt.year


df_copy.info()


df_copy.Type.unique()


df_copy.Type=df_copy.Type.apply(lambda x:'0' if str(x).lower()=='Free' else 1)


df_copy.Type=df_copy.Type.astype(int)


df_copy.info()


df_copy.to_csv('data/google_play_store_cleaned.csv',index=False)





numerical_features=[features for features in df_copy.columns if df_copy[features].dtype in ['int32','float64']]
print(f" There are {len(numerical_features)} numerical features and they are:",numerical_features)


categorical_features=[features for features in df_copy.columns if df_copy[features].dtype in ['object'] ]
print(f" There are {len(categorical_features)} categorical features and they are:",categorical_features)





fig,axes=plt.subplots(2,2,figsize=(12,11))
axes=axes.flat

for index,cols in enumerate(['Rating','Price']):
    sns.histplot(df_copy[cols],bins=30,kde=True,ax=axes[index*2],color='red')
    axes[index*2].set_title(f'Histogram of {cols}')


for index,cols in enumerate(['Rating','Price']):
    sns.boxplot(y=df_copy[cols],ax=axes[index*2+1],color='green')
    axes[index*2+1].set_title(f'Boxplot of {cols}')


print(f'The skewness of rating is {df_copy.Rating.skew()}')
print(f'The skewness of Price is {df_copy.Price.skew()}')


df_copy[['Rating','Price']].describe().T





fig,axes=plt.subplots(3,3,figsize=(14,10))
axes=axes.flat
for index,col in enumerate(numerical_features):
    sns.histplot(df_copy[col],ax=axes[index],kde='True',color='Purple')


plt.figure(figsize=(10,8))
sns.set_theme(style="darkgrid")
sns.countplot(x="Category",data=df_copy)
plt.xticks(rotation=90)

plt.show()


plt.figure(figsize=(8,6))
sns.set_theme(style="darkgrid")
sns.countplot(x="Content_Rating",data=df_copy,color='green')

plt.show()








plt.scatter(x='Price',y='Rating',data=df_copy,color='red')
plt.xlabel('Price')
plt.ylabel('Rating')
plt.show()





df_numeric=df_copy[numerical_features]
df_numeric.drop('Type',inplace=True,axis='columns')


sns.heatmap(df_numeric.corr(),linewidth=0.5,cmap='Paired',annot=True,fmt='.2f')
plt.show()


df_numeric.corr()['Rating'].sort_values(ascending=False).plot(kind='bar')
plt.show()





sns.boxplot(data=df_copy,x='Category',y='Rating',palette = "Set1")
plt.xticks(rotation=90)
plt.show()





five_rated=df_copy.loc[df_copy.Rating==5]
five_rated_apps=five_rated['App']
five_rated_apps_count=five_rated['App'].value_counts()
print(f"There are {len(five_rated_apps_count)} five rated apps in google play store")


highest_installs=five_rated.nlargest(10,'Installs')[['App','Installs']]
highest_installs


plt.figure(figsize=(8,6))
sns.barplot(x=highest_installs['App'],y=highest_installs['Installs'])
plt.xticks(rotation=90)
plt.show()








year=df_copy.groupby('Year',group_keys=False).apply(lambda x:x.loc[x['Installs'].idxmax(),['Year','App','Installs']])
year


sns.barplot(x=year['Year'], y=year['Installs'], hue=year['App'],palette = "Set1")
plt.xticks(rotation=90)
plt.show()





#Does a particular category have a high review and rating?


high_review_rating=df_copy.groupby('Category').agg(avg_rating=('Rating','mean'),avg_reviews=('Reviews','mean')).reset_index()


plt.figure(figsize=(12, 8))
sns.barplot(x='avg_rating', y='Category', data=high_review_rating,palette='viridis')

plt.xticks(rotation=90)
plt.show()





plt.figure(figsize=(12, 8))
sns.barplot(x='avg_reviews', y='Category', data=high_review_rating,color='purple')

plt.xticks(rotation=90)
plt.show()





df_copy.drop(columns=['Genres','Last_Updated','Current_Ver','Android_Ver'],axis=1,inplace=True)


df_copy.info()


df_copy.Content_Rating.unique()


categorical_columns=[feature for feature in df_copy.columns if df_copy[feature].dtype=='object']
categorical_columns


from sklearn.preprocessing import OneHotEncoder

encoder=OneHotEncoder(handle_unknown='ignore',sparse_output=False)
encoded=encoder.fit_transform(df_copy[categorical_columns])



encoder_df=pd.DataFrame(encoded,columns=encoder.get_feature_names_out(categorical_columns))
df_copy=pd.concat([df_copy,encoder_df],axis=1)


df_copy.drop(columns=['App', 'Category', 'Content_Rating'],inplace=True,axis=1)
df_copy.head()





X=df_copy.drop('Rating',axis=1).to_numpy()
Y=df_copy['Rating']


from sklearn.model_selection import train_test_split

X_train,X_test,Y_train,Y_test=train_test_split(X,Y,test_size=0.3,random_state=42)


from sklearn.preprocessing import StandardScaler

scaler=StandardScaler()
X_train_scaled=scaler.fit_transform(X_train)
X_test_scaled=scaler.transform(X_test)


#Definig a function for performance metrics
from sklearn.metrics import mean_absolute_error,mean_squared_error
from sklearn.metrics import r2_score

def evalute_model(true,predicted):
    mae=mean_absolute_error(true,predicted)
    mse=mean_squared_error(true,predicted)
    rmse=np.sqrt(mean_squared_error(true,predicted))
    score=r2_score(true,predicted)
    return mae,rmse,score
    


from sklearn.linear_model import LinearRegression
from sklearn.linear_model import Lasso
from sklearn.linear_model import Ridge
from sklearn.neighbors import KNeighborsRegressor

models={
    "Linear Regression":LinearRegression(),
    "Lasso":Lasso(),
    "Ridge":Ridge(),
    "K-Neighbors Regressor":KNeighborsRegressor(),
}
model_list=[]
r2_list=[]

for i in range (len(list(models))):



